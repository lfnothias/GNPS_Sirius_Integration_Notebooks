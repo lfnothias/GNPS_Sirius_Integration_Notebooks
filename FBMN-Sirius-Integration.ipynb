{
 "cells": [
  {
   "cell_type": "code",
   "execution_count": 2,
   "metadata": {},
   "outputs": [],
   "source": [
    "import requests\n",
    "import pandas as pd\n",
    "import networkx as nx"
   ]
  },
  {
   "cell_type": "code",
   "execution_count": 3,
   "metadata": {},
   "outputs": [],
   "source": [
    "# Update the tasks here from GNPS\n",
    "\n",
    "FBMN_TASK = \"bb6766d6f48c4cb6bd84fd620da9cae5\"\n",
    "SIRIUS_TASK = \"72542358ffca4eeda6a4b50d06b91e60\""
   ]
  },
  {
   "cell_type": "code",
   "execution_count": 32,
   "metadata": {},
   "outputs": [],
   "source": [
    "# Saving FBMN Network\n",
    "r = requests.get(\"http://gnps.ucsd.edu/ProteoSAFe/DownloadResultFile?task={}&block=main&file=gnps_molecular_network_graphml/\".format(FBMN_TASK))\n",
    "with open('fbmn_network.graphml', 'wb') as f:\n",
    "    f.write(r.content)"
   ]
  },
  {
   "cell_type": "code",
   "execution_count": 33,
   "metadata": {},
   "outputs": [],
   "source": [
    "# Saving Sirius Formulas\n",
    "r = requests.get(\"http://gnps.ucsd.edu/ProteoSAFe/DownloadResultFile?task={}&block=main&file=merged_output/formula_identifications.tsv\".format(SIRIUS_TASK))\n",
    "with open('formula_classifications.tsv', 'wb') as f:\n",
    "    f.write(r.content)\n",
    "sirius_df = pd.read_csv(\"formula_classifications.tsv\", sep=\"\\t\")"
   ]
  },
  {
   "cell_type": "code",
   "execution_count": 34,
   "metadata": {},
   "outputs": [],
   "source": [
    "# Saving Sirius Structure\n",
    "r = requests.get(\"http://gnps.ucsd.edu/ProteoSAFe/DownloadResultFile?task={}&block=main&file=merged_output/compound_identifications.tsv\".format(SIRIUS_TASK))\n",
    "with open('compound_classifications.tsv', 'wb') as f:\n",
    "    f.write(r.content)\n",
    "fingerid_df = pd.read_csv(\"compound_classifications.tsv\", sep=\"\\t\")"
   ]
  },
  {
   "cell_type": "code",
   "execution_count": 35,
   "metadata": {},
   "outputs": [],
   "source": [
    "# Saving Sirius Canopus Classifications\n",
    "r = requests.get(\"http://gnps.ucsd.edu/ProteoSAFe/DownloadResultFile?task={}&block=main&file=merged_output/canopus_classification.tsv\".format(SIRIUS_TASK))\n",
    "with open('canopus_classifications.tsv', 'wb') as f:\n",
    "    f.write(r.content)\n",
    "canopus_df = pd.read_csv(\"canopus_classifications.tsv\", sep=\"\\t\")"
   ]
  },
  {
   "cell_type": "code",
   "execution_count": 39,
   "metadata": {},
   "outputs": [],
   "source": [
    "# Integrating into Graphml\n",
    "G = nx.read_graphml(\"fbmn_network.graphml\")\n",
    "\n",
    "# Adding sirius information\n",
    "for result in sirius_df.to_dict(orient=\"records\"):\n",
    "    scan = str(result[\"scan\"])\n",
    "    if scan in G:\n",
    "        G.node[scan][\"sirius:molecularFormula\"] = result[\"molecularFormula\"]\n",
    "        G.node[scan][\"sirius:adduct\"] = result[\"adduct\"]\n",
    "        \n",
    "# Adding fingerid information\n",
    "for result in fingerid_df.to_dict(orient=\"records\"):\n",
    "    scan = str(result[\"scan\"])\n",
    "    if scan in G:\n",
    "        G.node[scan][\"csifingerid:smiles\"] = result[\"smiles\"]\n",
    "        G.node[scan][\"csifingerid:Confidence_Score\"] = result[\"Confidence_Score\"]\n",
    "    \n",
    "# Adding canopus information\n",
    "for result in canopus_df.to_dict(orient=\"records\"):\n",
    "    scan = str(result[\"scan\"])\n",
    "    if scan in G:\n",
    "        G.node[scan][\"canopus:subclass\"] = result[\"subclass\"]\n",
    "        G.node[scan][\"canopus:class\"] = result[\"class\"]\n",
    "        G.node[scan][\"canopus:superclass\"] = result[\"superclass\"]\n",
    "    \n",
    "nx.write_graphml(G, \"fbmn_sirius_network.graphml\")"
   ]
  }
 ],
 "metadata": {
  "kernelspec": {
   "display_name": "Python 3",
   "language": "python",
   "name": "python3"
  },
  "language_info": {
   "codemirror_mode": {
    "name": "ipython",
    "version": 3
   },
   "file_extension": ".py",
   "mimetype": "text/x-python",
   "name": "python",
   "nbconvert_exporter": "python",
   "pygments_lexer": "ipython3",
   "version": "3.7.3"
  }
 },
 "nbformat": 4,
 "nbformat_minor": 4
}
